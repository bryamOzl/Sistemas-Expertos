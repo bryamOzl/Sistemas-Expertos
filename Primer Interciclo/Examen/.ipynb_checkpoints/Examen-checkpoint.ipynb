{
 "cells": [
  {
   "cell_type": "code",
   "execution_count": 38,
   "metadata": {},
   "outputs": [],
   "source": [
    "environment.clear()"
   ]
  },
  {
   "cell_type": "code",
   "execution_count": 39,
   "metadata": {},
   "outputs": [],
   "source": [
    "from clips import Environment, Symbol \n",
    "environment = Environment()"
   ]
  },
  {
   "cell_type": "code",
   "execution_count": 40,
   "metadata": {},
   "outputs": [],
   "source": [
    "environment.load('ExamenClips.clp')"
   ]
  },
  {
   "cell_type": "code",
   "execution_count": 41,
   "metadata": {},
   "outputs": [
    {
     "data": {
      "text/plain": [
       "2"
      ]
     },
     "execution_count": 41,
     "metadata": {},
     "output_type": "execute_result"
    }
   ],
   "source": [
    "environment.reset()\n",
    "environment.run()"
   ]
  },
  {
   "cell_type": "code",
   "execution_count": 42,
   "metadata": {},
   "outputs": [
    {
     "name": "stdout",
     "output_type": "stream",
     "text": [
      "Ingrese el problema de la planta: La raiz de la planta crece muy poco\n",
      "Ingrese el segundo problema de la planta: La planta tiene color purpura\n",
      "Ingrese el  tercer problema de la planta: La planta tiene tallos debilitados\n"
     ]
    }
   ],
   "source": [
    "problema = input(\"Ingrese el problema de la planta: \")\n",
    "fact_string_planta = '(enfermedad ' + problema  + ')'\n",
    "fact_planta = environment.assert_string(fact_string_planta)\n",
    "\n",
    "\n",
    "problema1 = input(\"Ingrese el segundo problema de la planta: \")\n",
    "fact_string_planta1 = '(enfermedad1 ' + problema1  + ')'\n",
    "fact_planta1 = environment.assert_string(fact_string_planta1)\n",
    "\n",
    "\n",
    "problema2 = input(\"Ingrese el  tercer problema de la planta: \")\n",
    "fact_string_planta2 = '(enfermedad2 ' + problema2  + ')'\n",
    "fact_planta2 = environment.assert_string(fact_string_planta2)\n"
   ]
  },
  {
   "cell_type": "code",
   "execution_count": 43,
   "metadata": {},
   "outputs": [
    {
     "name": "stdout",
     "output_type": "stream",
     "text": [
      "(initial-fact)\n",
      "(La raiz de la planta crece muy poco)\n",
      "(La planta tiene color purpura)\n",
      "(La planta tiene tallos debilitados)\n",
      "(enfermedad La raiz de la planta crece muy poco)\n",
      "(enfermedad1 La planta tiene color purpura)\n",
      "(enfermedad2 La planta tiene tallos debilitados)\n"
     ]
    }
   ],
   "source": [
    "environment.run()\n",
    "for fact in environment.facts():\n",
    "    print(fact)"
   ]
  },
  {
   "cell_type": "code",
   "execution_count": null,
   "metadata": {},
   "outputs": [],
   "source": []
  }
 ],
 "metadata": {
  "kernelspec": {
   "display_name": "Python 3",
   "language": "python",
   "name": "python3"
  },
  "language_info": {
   "codemirror_mode": {
    "name": "ipython",
    "version": 3
   },
   "file_extension": ".py",
   "mimetype": "text/x-python",
   "name": "python",
   "nbconvert_exporter": "python",
   "pygments_lexer": "ipython3",
   "version": "3.7.6"
  }
 },
 "nbformat": 4,
 "nbformat_minor": 4
}
