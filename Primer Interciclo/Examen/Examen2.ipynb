{
 "cells": [
  {
   "cell_type": "code",
   "execution_count": 1,
   "metadata": {},
   "outputs": [],
   "source": [
    "from clips import Environment, Symbol\n",
    "environment = Environment()"
   ]
  },
  {
   "cell_type": "code",
   "execution_count": 2,
   "metadata": {},
   "outputs": [],
   "source": [
    "environment.clear()"
   ]
  },
  {
   "cell_type": "code",
   "execution_count": 3,
   "metadata": {},
   "outputs": [],
   "source": [
    "environment.load('Examen.clp')"
   ]
  },
  {
   "cell_type": "code",
   "execution_count": 4,
   "metadata": {},
   "outputs": [
    {
     "data": {
      "text/plain": [
       "0"
      ]
     },
     "execution_count": 4,
     "metadata": {},
     "output_type": "execute_result"
    }
   ],
   "source": [
    "environment.reset()\n",
    "environment.run()"
   ]
  },
  {
   "cell_type": "code",
   "execution_count": 5,
   "metadata": {},
   "outputs": [
    {
     "name": "stdout",
     "output_type": "stream",
     "text": [
      "(defrule MAIN::nitrogeno1\n",
      "   (La planta crece muy poco)\n",
      "   =>\n",
      "   (assert (La planta crece muy poco)))\n",
      "\n",
      "(defrule MAIN::nitrogeno2\n",
      "   (La planta tiene un color amarillo palido)\n",
      "   =>\n",
      "   (assert (La planta tiene un color amarillo palido)))\n",
      "\n",
      "(defrule MAIN::nitrogeno3\n",
      "   (La planta tiene hojas de color pardo rojizo)\n",
      "   =>\n",
      "   (assert (La planta tiene hojas de color pardo rojizo)))\n",
      "\n",
      "(defrule MAIN::fosforo1\n",
      "   (La raiz de la planata crece poco)\n",
      "   =>\n",
      "   (assert (La raiz de la planata crece poco)))\n",
      "\n",
      "(defrule MAIN::fosforo2\n",
      "   (La planta tiene tallo fusiforme)\n",
      "   =>\n",
      "   (assert (La planta tiene tallo fusiforme)))\n",
      "\n",
      "(defrule MAIN::fosforo3\n",
      "   (La planta tiene color purpura)\n",
      "   =>\n",
      "   (assert (La planta tiene color purpura)))\n",
      "\n",
      "(defrule MAIN::fosforo4\n",
      "   (La planta tiene retraso de madurez)\n",
      "   =>\n",
      "   (assert (La planta tiene retraso de madurez)))\n",
      "\n",
      "(defrule MAIN::potasio1\n",
      "   (Tiene los bordes de las hojas chamuscados)\n",
      "   =>\n",
      "   (assert (Tiene los bordes de las hojas chamuscados)))\n",
      "\n",
      "(defrule MAIN::potasio2\n",
      "   (La planta tiene tallos debilitados)\n",
      "   =>\n",
      "   (assert (La planta tiene tallos debilitados)))\n",
      "\n",
      "(defrule MAIN::potasio3\n",
      "   (La planta tiene semillas o frutas marchitas)\n",
      "   =>\n",
      "   (assert (La planta tiene semillas o frutas marchitas)))\n",
      "\n",
      "(defrule MAIN::ausencia-nitrogeno\n",
      "   (or  (La planta crece muy poco)\n",
      "        (La planta tiene un color amarillo palido)\n",
      "        (La planta tiene hojas de color pardo rojizo))\n",
      "   =>\n",
      "   (assert (deficiencia-nitrogeno))\n",
      "   (printout t \"La planta tiene deficiencia de Nitrógeno.\" crlf))\n",
      "\n",
      "(defrule MAIN::ausencia-fosforo\n",
      "   (or  (La raiz de la planata crece poco)\n",
      "        (La planta tiene tallo fusiforme)\n",
      "        (La planta tiene color purpura)\n",
      "        (La planta tiene retraso de madurez))\n",
      "   =>\n",
      "   (assert (deficiencia-fosforo))\n",
      "   (printout t \"La planta tiene deficiencia de Fosforo.\" crlf))\n",
      "\n",
      "(defrule MAIN::ausencia-potasio\n",
      "   (or  (Tiene los bordes de las hojas chamuscados)\n",
      "        (La planta tiene tallos debilitados)\n",
      "        (La planta tiene semillas o frutas marchitas))\n",
      "   =>\n",
      "   (assert (deficiencia-potasio))\n",
      "   (printout t \"La planta tiene deficiencia de Potasio.\" crlf))\n",
      "\n"
     ]
    }
   ],
   "source": [
    "for rule in environment.rules():\n",
    "    print(rule)"
   ]
  },
  {
   "cell_type": "code",
   "execution_count": 6,
   "metadata": {},
   "outputs": [
    {
     "name": "stdout",
     "output_type": "stream",
     "text": [
      "Que problema tiene su planta ? La raiz de la planta crece muy poco\n",
      "Que problema tiene su planta ? La planta tiene color purpura\n",
      "Que problema tiene su planta ? La planta tiene tallos debilitados\n"
     ]
    }
   ],
   "source": [
    "environment.reset()\n",
    "problema1 = input(\"Que problema tiene su planta ? \")\n",
    "fact_string_planta1 = '(' + problema1  + ')'\n",
    "fact_planta1 = environment.assert_string(fact_string_planta1)\n",
    "\n",
    "\n",
    "problema2 = input(\"Que problema tiene su planta ? \")\n",
    "fact_string_planta2 = '(' + problema2  + ')'\n",
    "fact_planta2 = environment.assert_string(fact_string_planta2)\n",
    "\n",
    "\n",
    "problema3 = input(\"Que problema tiene su planta ? \")\n",
    "fact_string_planta3 = '(' + problema3  + ')'\n",
    "fact_planta3 = environment.assert_string(fact_string_planta3)"
   ]
  },
  {
   "cell_type": "code",
   "execution_count": 7,
   "metadata": {},
   "outputs": [
    {
     "name": "stdout",
     "output_type": "stream",
     "text": [
      "(initial-fact)\n",
      "(La raiz de la planta crece muy poco)\n",
      "(La planta tiene color purpura)\n",
      "(La planta tiene tallos debilitados)\n"
     ]
    }
   ],
   "source": [
    "for fact in environment.facts():\n",
    "    print(fact)"
   ]
  },
  {
   "cell_type": "code",
   "execution_count": 8,
   "metadata": {},
   "outputs": [
    {
     "name": "stdout",
     "output_type": "stream",
     "text": [
      "La planta tiene deficiencia de Potasio\n",
      "La planta tiene deficiencia de Fósforo\n"
     ]
    }
   ],
   "source": [
    "environment.run()\n",
    "\n",
    "for fact in environment.facts():\n",
    "    if fact.template.name == 'deficiencia-nitrogeno':\n",
    "        print('La planta tiene deficiencia de Nitrógeno')\n",
    "    elif fact.template.name == 'deficiencia-fosforo':\n",
    "        print('La planta tiene deficiencia de Fósforo')\n",
    "    elif fact.template.name == 'deficiencia-potasio':\n",
    "        print('La planta tiene deficiencia de Potasio')"
   ]
  },
  {
   "cell_type": "code",
   "execution_count": 9,
   "metadata": {},
   "outputs": [
    {
     "name": "stdout",
     "output_type": "stream",
     "text": [
      "(initial-fact)\n",
      "(La raiz de la planta crece muy poco)\n",
      "(La planta tiene color purpura)\n",
      "(La planta tiene tallos debilitados)\n",
      "(deficiencia-potasio)\n",
      "(deficiencia-fosforo)\n"
     ]
    }
   ],
   "source": [
    "for fact in environment.facts():\n",
    "    print(fact)"
   ]
  }
 ],
 "metadata": {
  "kernelspec": {
   "display_name": "Python 3",
   "language": "python",
   "name": "python3"
  },
  "language_info": {
   "codemirror_mode": {
    "name": "ipython",
    "version": 3
   },
   "file_extension": ".py",
   "mimetype": "text/x-python",
   "name": "python",
   "nbconvert_exporter": "python",
   "pygments_lexer": "ipython3",
   "version": "3.7.6"
  }
 },
 "nbformat": 4,
 "nbformat_minor": 4
}
