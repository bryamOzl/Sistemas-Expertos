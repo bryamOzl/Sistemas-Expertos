{
 "cells": [
  {
   "cell_type": "code",
   "execution_count": 1,
   "metadata": {},
   "outputs": [],
   "source": [
    "import numpy as np\n",
    "import skfuzzy as fuzz\n",
    "from skfuzzy import control as ctrl\n",
    "import matplotlib.pyplot as plt\n",
    "\n",
    "# Nuevos objetos Antecedente / Consecuentes contienen variables de universo y \n",
    "# funciones de pertenencia.\n",
    "edad = ctrl.Antecedent(np.arange(18, 71, 1), 'edad')\n",
    "manejo = ctrl.Antecedent(np.arange(0, 101, 1), 'manejo')\n",
    "riesgo = ctrl.Consequent(np.arange(0, 101, 1), 'riesgo')\n",
    "\n",
    "# Población función Auto-pertenencia es posible con .automf (3, 5 o 7) \n",
    "#calidad.automf(3)\n",
    "#servicio.automf(3)\n",
    "\n",
    "riesgo['bajo'] = fuzz.trimf(riesgo.universe, [0, 10, 20])\n",
    "riesgo['medio'] = fuzz.trimf(riesgo.universe, [10, 30, 45])\n",
    "riesgo['alto'] = fuzz.trimf(riesgo.universe, [40, 55, 100])\n",
    "\n",
    "manejo['bajo'] = fuzz.trimf(manejo.universe, [0, 10, 20])\n",
    "manejo['medio'] = fuzz.trimf(manejo.universe, [10, 40, 60])\n",
    "manejo['alto'] = fuzz.trimf(manejo.universe, [50, 70, 100])\n",
    "\n",
    "edad['joven'] = fuzz.trimf(edad.universe, [18, 25, 30])\n",
    "edad['adulto'] = fuzz.trimf(edad.universe, [20, 35, 50])\n",
    "edad['mayor'] = fuzz.trimf(edad.universe, [40, 60, 70])"
   ]
  },
  {
   "cell_type": "code",
   "execution_count": null,
   "metadata": {},
   "outputs": [],
   "source": [
    "edad.view()"
   ]
  },
  {
   "cell_type": "code",
   "execution_count": null,
   "metadata": {},
   "outputs": [],
   "source": [
    "manejo.view()"
   ]
  },
  {
   "cell_type": "code",
   "execution_count": null,
   "metadata": {},
   "outputs": [],
   "source": [
    "riesgo.view()"
   ]
  },
  {
   "cell_type": "code",
   "execution_count": 2,
   "metadata": {},
   "outputs": [],
   "source": [
    "regla1 = ctrl.Rule(manejo['bajo'] and edad['joven'], riesgo['medio'])\n",
    "regla2 = ctrl.Rule(manejo['medio'] and edad['joven'], riesgo['alto'])\n",
    "regla3 = ctrl.Rule(manejo['alto'] and edad['joven'], riesgo['alto'])\n",
    "\n",
    "regla4 = ctrl.Rule(manejo['bajo'] and edad['adulto'], riesgo['bajo'])\n",
    "regla5 = ctrl.Rule(manejo['medio'] and edad['adulto'], riesgo['medio'])\n",
    "regla6 = ctrl.Rule(manejo['alto'] and edad['adulto'], riesgo['alto'])\n",
    "\n",
    "regla7 = ctrl.Rule(manejo['bajo'] and edad['mayor'], riesgo['medio'])\n",
    "regla8 = ctrl.Rule(manejo['medio'] and edad['mayor'], riesgo['alto'])\n",
    "regla9 = ctrl.Rule(manejo['alto'] and edad['mayor'], riesgo['alto'])\n",
    "\n",
    "regla10 = ctrl.Rule(edad['joven'] and manejo['bajo'], riesgo['medio'])\n",
    "regla11 = ctrl.Rule(edad['joven'] and manejo['medio'], riesgo['alto'])\n",
    "regla12 = ctrl.Rule(edad['joven'] and manejo['alto'], riesgo['alto'])\n",
    "\n",
    "regla13 = ctrl.Rule(edad['adulto'] and manejo['bajo'], riesgo['bajo'])\n",
    "regla14 = ctrl.Rule(edad['adulto'] and manejo['medio'], riesgo['medio'])\n",
    "regla15 = ctrl.Rule(edad['adulto'] and manejo['alto'], riesgo['alto'])\n",
    "\n",
    "regla16 = ctrl.Rule(edad['mayor'] and manejo['bajo'], riesgo['medio'])\n",
    "regla17 = ctrl.Rule(edad['mayor'] and manejo['medio'], riesgo['alto'])\n",
    "regla18 = ctrl.Rule(edad['mayor'] and manejo['alto'], riesgo['alto'])"
   ]
  },
  {
   "cell_type": "code",
   "execution_count": 3,
   "metadata": {},
   "outputs": [],
   "source": [
    "riesgo_ctrl = ctrl.ControlSystem([regla1,regla2,regla3,regla4,regla5,regla6,regla7,regla8,regla9\n",
    "                                 ,regla10,regla11,regla12,regla13,regla14,regla15,regla16,regla17,regla18])"
   ]
  },
  {
   "cell_type": "code",
   "execution_count": 4,
   "metadata": {},
   "outputs": [],
   "source": [
    "riesgos = ctrl.ControlSystemSimulation(riesgo_ctrl)"
   ]
  },
  {
   "cell_type": "code",
   "execution_count": 5,
   "metadata": {},
   "outputs": [],
   "source": [
    "riesgos.input['manejo'] = 50\n",
    "riesgos.input['edad'] = 25\n",
    "\n",
    "riesgos.compute()"
   ]
  },
  {
   "cell_type": "code",
   "execution_count": 6,
   "metadata": {},
   "outputs": [
    {
     "name": "stdout",
     "output_type": "stream",
     "text": [
      "48.21566063775698\n"
     ]
    },
    {
     "name": "stderr",
     "output_type": "stream",
     "text": [
      "C:\\Users\\Bryam\\Anaconda3\\lib\\site-packages\\skfuzzy\\control\\fuzzyvariable.py:122: UserWarning: Matplotlib is currently using module://ipykernel.pylab.backend_inline, which is a non-GUI backend, so cannot show the figure.\n",
      "  fig.show()\n"
     ]
    },
    {
     "data": {
      "image/png": "[encoded data removed]",
      "text/plain": [
       "<Figure size 432x288 with 1 Axes>"
      ]
     },
     "metadata": {
      "needs_background": "light"
     },
     "output_type": "display_data"
    }
   ],
   "source": [
    "print (riesgos.output['riesgo'])\n",
    "riesgo.view(sim=riesgos)"
   ]
  },
  {
   "cell_type": "code",
   "execution_count": null,
   "metadata": {},
   "outputs": [],
   "source": []
  }
 ],
 "metadata": {
  "kernelspec": {
   "display_name": "Python 3",
   "language": "python",
   "name": "python3"
  },
  "language_info": {
   "codemirror_mode": {
    "name": "ipython",
    "version": 3
   },
   "file_extension": ".py",
   "mimetype": "text/x-python",
   "name": "python",
   "nbconvert_exporter": "python",
   "pygments_lexer": "ipython3",
   "version": "3.7.6"
  }
 },
 "nbformat": 4,
 "nbformat_minor": 4
}
